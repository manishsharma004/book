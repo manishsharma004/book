{
 "cells": [
  {
   "cell_type": "markdown",
   "metadata": {},
   "source": [
    "Purpose: A few examples for the Big Data Handbook, Indiana University.\n",
    "Author: Juliette Zerick\n",
    "Created: October 26, 2017\n",
    "Last modified: October 26, 2017\n",
    "\n",
    "Points of contact: Juliette Zerick (jzerick@iu.edu or jzerick@gmail.com), Dr. Gregor von Laszewski (laszewski@gmail.com)"
   ]
  },
  {
   "cell_type": "markdown",
   "metadata": {},
   "source": [
    "These first few examples are adapted from the following source:\n",
    "\n",
    "Prasanth. \"Simple statistics with SciPy.\" Comfort at 1 AU. Created February 28, 2011. Available online: <https://oneau.wordpress.com/2011/02/28/simple-statistics-with-scipy/>. Last accessed October 26, 2017.\n",
    "\n",
    "The more advanced examples are worth a look but not covered in this introductory notebook."
   ]
  },
  {
   "cell_type": "markdown",
   "metadata": {},
   "source": [
    "First we add the usual scientific computing modules with the typical abbreviations, including sp for scipy. We could invoke scipy's statistical package as sp.stats, but for the sake of laziness we abbreviate that too."
   ]
  },
  {
   "cell_type": "code",
   "execution_count": 1,
   "metadata": {},
   "outputs": [],
   "source": [
    "import numpy as np # always handy\n",
    "import scipy as sp # the module of interest\n",
    "from scipy import stats # refer directly to stats rather than sp.stats\n",
    "import matplotlib as mpl # for visualization\n",
    "from matplotlib import pyplot as plt # refer directly to pyplot rather than mpl.pyplot"
   ]
  },
  {
   "cell_type": "markdown",
   "metadata": {},
   "source": [
    "Now let's create some fake data to play with. We'll get 100 samples from a Gaussian distribution centered at zero."
   ]
  },
  {
   "cell_type": "code",
   "execution_count": 2,
   "metadata": {},
   "outputs": [],
   "source": [
    "s = sp.randn(100)"
   ]
  },
  {
   "cell_type": "markdown",
   "metadata": {},
   "source": [
    "How many elements are in the set?"
   ]
  },
  {
   "cell_type": "code",
   "execution_count": 3,
   "metadata": {},
   "outputs": [
    {
     "name": "stdout",
     "output_type": "stream",
     "text": [
      "There are 100 elements in the set\n"
     ]
    }
   ],
   "source": [
    "print 'There are',len(s),'elements in the set'"
   ]
  },
  {
   "cell_type": "markdown",
   "metadata": {},
   "source": [
    "What is the mean (average) of the set?"
   ]
  },
  {
   "cell_type": "code",
   "execution_count": 4,
   "metadata": {},
   "outputs": [
    {
     "name": "stdout",
     "output_type": "stream",
     "text": [
      "The mean of the set is 0.0361290850468\n"
     ]
    }
   ],
   "source": [
    "print 'The mean of the set is',s.mean()"
   ]
  },
  {
   "cell_type": "markdown",
   "metadata": {},
   "source": [
    "What is the minimum of the set?"
   ]
  },
  {
   "cell_type": "code",
   "execution_count": 5,
   "metadata": {},
   "outputs": [
    {
     "name": "stdout",
     "output_type": "stream",
     "text": [
      "The minimum of the set is -2.25784566034\n"
     ]
    }
   ],
   "source": [
    "print 'The minimum of the set is',s.min()"
   ]
  },
  {
   "cell_type": "markdown",
   "metadata": {},
   "source": [
    "What is the maximum of the set?"
   ]
  },
  {
   "cell_type": "code",
   "execution_count": 6,
   "metadata": {},
   "outputs": [
    {
     "name": "stdout",
     "output_type": "stream",
     "text": [
      "The maximum of the set is 2.1437486036\n"
     ]
    }
   ],
   "source": [
    "print 'The maximum of the set is',s.max()"
   ]
  },
  {
   "cell_type": "markdown",
   "metadata": {},
   "source": [
    "We can use the scipy functions too. What's the median?"
   ]
  },
  {
   "cell_type": "code",
   "execution_count": 7,
   "metadata": {},
   "outputs": [
    {
     "name": "stdout",
     "output_type": "stream",
     "text": [
      "The median of the set is 0.0642553351313\n"
     ]
    }
   ],
   "source": [
    "print 'The median of the set is',sp.median(s)"
   ]
  },
  {
   "cell_type": "markdown",
   "metadata": {},
   "source": [
    "What about the standard deviation and variance?"
   ]
  },
  {
   "cell_type": "code",
   "execution_count": 8,
   "metadata": {},
   "outputs": [
    {
     "name": "stdout",
     "output_type": "stream",
     "text": [
      "The standard deviation is 0.963806824882 and the variance is 0.928923595688\n"
     ]
    }
   ],
   "source": [
    "print 'The standard deviation is',sp.std(s),'and the variance is',sp.var(s)"
   ]
  },
  {
   "cell_type": "markdown",
   "metadata": {},
   "source": [
    "Isn't the variance the square of the standard deviation?"
   ]
  },
  {
   "cell_type": "code",
   "execution_count": 9,
   "metadata": {},
   "outputs": [
    {
     "name": "stdout",
     "output_type": "stream",
     "text": [
      "The square of the standard deviation is 0.928923595688\n"
     ]
    }
   ],
   "source": [
    "print 'The square of the standard deviation is',sp.std(s)**2"
   ]
  },
  {
   "cell_type": "markdown",
   "metadata": {},
   "source": [
    "How close are the measures?"
   ]
  },
  {
   "cell_type": "code",
   "execution_count": 10,
   "metadata": {},
   "outputs": [
    {
     "name": "stdout",
     "output_type": "stream",
     "text": [
      "Very! The difference is 1.11022302463e-16\n"
     ]
    }
   ],
   "source": [
    "print 'Very! The difference is',abs(sp.std(s)**2 - sp.var(s))"
   ]
  },
  {
   "cell_type": "code",
   "execution_count": 29,
   "metadata": {},
   "outputs": [
    {
     "name": "stdout",
     "output_type": "stream",
     "text": [
      "And in decimal form, the difference is 0.0000000000000001\n"
     ]
    }
   ],
   "source": [
    "print 'And in decimal form, the difference is %0.16f' % (abs(sp.std(s)**2 - sp.var(s)))"
   ]
  },
  {
   "cell_type": "markdown",
   "metadata": {},
   "source": [
    "How does this look as a histogram?"
   ]
  },
  {
   "cell_type": "code",
   "execution_count": 11,
   "metadata": {},
   "outputs": [
    {
     "data": {
      "image/png": "[encoded data removed]",
      "text/plain": [
       "<matplotlib.figure.Figure at 0x7fcff198ae50>"
      ]
     },
     "metadata": {},
     "output_type": "display_data"
    }
   ],
   "source": [
    "plt.hist(s) # yes, one line of code for a histogram\n",
    "plt.show()"
   ]
  },
  {
   "cell_type": "markdown",
   "metadata": {},
   "source": [
    "Let's add some titles."
   ]
  },
  {
   "cell_type": "code",
   "execution_count": 12,
   "metadata": {},
   "outputs": [
    {
     "data": {
      "image/png": "[encoded data removed]",
      "text/plain": [
       "<matplotlib.figure.Figure at 0x7fcff199e410>"
      ]
     },
     "metadata": {},
     "output_type": "display_data"
    }
   ],
   "source": [
    "plt.clf() # clear out the previous plot\n",
    "\n",
    "plt.hist(s)\n",
    "plt.title(\"Histogram Example\")\n",
    "plt.xlabel(\"value\")\n",
    "plt.ylabel(\"frequency\")\n",
    "\n",
    "plt.show()"
   ]
  },
  {
   "cell_type": "markdown",
   "metadata": {},
   "source": [
    "Let's try out some linear regression, or curve fitting."
   ]
  },
  {
   "cell_type": "code",
   "execution_count": 17,
   "metadata": {},
   "outputs": [],
   "source": [
    "import random\n",
    "\n",
    "def F(x):\n",
    "    return 2*x - 2\n",
    "\n",
    "def add_noise(x):\n",
    "    return x + random.uniform(-1,1) "
   ]
  },
  {
   "cell_type": "code",
   "execution_count": 19,
   "metadata": {},
   "outputs": [
    {
     "data": {
      "image/png": "[encoded data removed]",
      "text/plain": [
       "<matplotlib.figure.Figure at 0x7fcfef49de10>"
      ]
     },
     "metadata": {},
     "output_type": "display_data"
    }
   ],
   "source": [
    "X = range(0,10,1)\n",
    "\n",
    "# the fancy functional programming way\n",
    "Y = map(lambda x: add_noise(F(x)),X)\n",
    "\n",
    "# alternatively:\n",
    "Y = []\n",
    "for i in xrange(len(X)):\n",
    "    Y.append(add_noise(X[i]))\n",
    "    \n",
    "plt.clf() # clear out the old figure\n",
    "plt.plot(X,Y,'.')\n",
    "plt.show()"
   ]
  },
  {
   "cell_type": "markdown",
   "metadata": {},
   "source": [
    "Now let's try linear regression to fit the curve."
   ]
  },
  {
   "cell_type": "code",
   "execution_count": 21,
   "metadata": {},
   "outputs": [],
   "source": [
    "m, b, r, p, est_std_err = stats.linregress(X,Y)"
   ]
  },
  {
   "cell_type": "markdown",
   "metadata": {},
   "source": [
    "What is the slope and y-intercept of the fitted curve?"
   ]
  },
  {
   "cell_type": "code",
   "execution_count": 22,
   "metadata": {},
   "outputs": [
    {
     "name": "stdout",
     "output_type": "stream",
     "text": [
      "The slope is 1.00471584732 and the y-intercept is 0.0838660759443\n"
     ]
    }
   ],
   "source": [
    "print 'The slope is',m,'and the y-intercept is',b"
   ]
  },
  {
   "cell_type": "code",
   "execution_count": 23,
   "metadata": {},
   "outputs": [],
   "source": [
    "def Fprime(x): # the fitted curve\n",
    "    return m*x + b"
   ]
  },
  {
   "cell_type": "markdown",
   "metadata": {},
   "source": [
    "Now let's see how well the curve fits the data. We'll call the fitted curve F'."
   ]
  },
  {
   "cell_type": "code",
   "execution_count": 25,
   "metadata": {},
   "outputs": [],
   "source": [
    "X = range(0,10,1)\n",
    "Yprime = map(lambda x: Fprime(x),X)"
   ]
  },
  {
   "cell_type": "code",
   "execution_count": 36,
   "metadata": {
    "scrolled": true
   },
   "outputs": [
    {
     "data": {
      "text/plain": [
       "<matplotlib.legend.Legend at 0x7fcfef0345d0>"
      ]
     },
     "execution_count": 36,
     "metadata": {},
     "output_type": "execute_result"
    }
   ],
   "source": [
    "plt.clf() # clear out the old figure\n",
    "\n",
    "# the observed points\n",
    "plt.plot(X,Y,'.', # blue dots\n",
    "    label='observed points') # for the legend\n",
    "         \n",
    "# the interpolated curve\n",
    "plt.plot(X,Yprime,'r-', # connected red line\n",
    "    label='estimated points')  # for the legend\n",
    "\n",
    "plt.title(\"Linear Regression Example\") # title\n",
    "plt.xlabel(\"x\") # horizontal axis title\n",
    "plt.ylabel(\"y\") # vertical axis title\n",
    "plt.legend(['obsered points','estimated points']) # legend labels to plot\n",
    "\n",
    "# comment out so that you can save the figure\n",
    "#plt.show()"
   ]
  },
  {
   "cell_type": "code",
   "execution_count": 37,
   "metadata": {},
   "outputs": [],
   "source": [
    "plt.savefig('something.png') # save locally"
   ]
  },
  {
   "cell_type": "code",
   "execution_count": 38,
   "metadata": {},
   "outputs": [
    {
     "data": {
      "image/png": "[encoded data removed]",
      "text/plain": [
       "<matplotlib.figure.Figure at 0x7fcfef51dc10>"
      ]
     },
     "metadata": {},
     "output_type": "display_data"
    }
   ],
   "source": [
    "plt.show()"
   ]
  },
  {
   "cell_type": "markdown",
   "metadata": {},
   "source": [
    "There are many other fun things you can do with SciPy. This cookbook is chock-full of interesting scientific computing examples:\n",
    "\n",
    "Various authors. SciPy Cookbook. Lasted updated: 2015. Available online: <http://scipy-cookbook.readthedocs.io/>. Last accessed: October 26, 2017."
   ]
  },
  {
   "cell_type": "code",
   "execution_count": null,
   "metadata": {},
   "outputs": [],
   "source": []
  }
 ],
 "metadata": {
  "kernelspec": {
   "display_name": "Python 2",
   "language": "python",
   "name": "python2"
  },
  "language_info": {
   "codemirror_mode": {
    "name": "ipython",
    "version": 2
   },
   "file_extension": ".py",
   "mimetype": "text/x-python",
   "name": "python",
   "nbconvert_exporter": "python",
   "pygments_lexer": "ipython2",
   "version": "2.7.13"
  }
 },
 "nbformat": 4,
 "nbformat_minor": 2
}
